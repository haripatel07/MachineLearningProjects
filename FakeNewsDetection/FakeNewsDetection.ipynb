{
  "nbformat": 4,
  "nbformat_minor": 0,
  "metadata": {
    "colab": {
      "provenance": []
    },
    "kernelspec": {
      "name": "python3",
      "display_name": "Python 3"
    },
    "language_info": {
      "name": "python"
    }
  },
  "cells": [
    {
      "cell_type": "markdown",
      "source": [
        "**Fake News Detection**  \n",
        "\n",
        "Fake news refers to misleading or false journalism designed to spread misinformation, often through social media and online platforms. It is commonly created to influence opinions, promote specific ideologies, or serve political agendas. These fake articles often contain hoaxes or exaggerated claims, which gain traction due to viral algorithms. This can lead to the formation of a \"filter bubble,\" where users are exposed only to information that aligns with their pre-existing beliefs, further reinforcing misinformation. Detecting fake news is essential to combat its harmful effects and promote accurate information dissemination.\n"
      ],
      "metadata": {
        "id": "XNoXAvLiHpMB"
      }
    },
    {
      "cell_type": "markdown",
      "source": [
        "**Project Aim:**  \n",
        "\n",
        "The aim of this project is to develop a robust machine learning system for detecting fake news by analyzing textual content. The project focuses on implementing and evaluating various combinations of text vectorization techniques and machine learning models. Specifically, it utilizes:  \n",
        "\n",
        "- **CountVectorizer** with **Naive Bayes** to analyze word frequency patterns.  \n",
        "- **TfidfVectorizer** with **PassiveAggressiveClassifier** to capture term importance and classify complex relationships.  \n",
        "- **HashingVectorizer** with **SGDClassifier** for scalable and memory-efficient text representation.  \n",
        "- **Doc2Vec** with **Logistic Regression** to extract semantic meaning from the text for document-level understanding.  \n",
        "\n",
        "By comparing these combinations, the project aims to identify the most effective methodology for distinguishing between real and fake news articles, contributing to more reliable content verification systems. Once the best-performing model is identified, the focus will shift to applying error analysis and cross-validation techniques to further refine its performance, ensuring that the system is both accurate and reliable in real-world applications."
      ],
      "metadata": {
        "id": "_Wwv6DrSt5Lo"
      }
    },
    {
      "cell_type": "code",
      "execution_count": null,
      "metadata": {
        "id": "s1fRI16zHJPi"
      },
      "outputs": [],
      "source": [
        "import numpy as np\n",
        "import pandas as pd\n",
        "from sklearn.model_selection import train_test_split\n",
        "from sklearn.feature_extraction.text import CountVectorizer, TfidfVectorizer, HashingVectorizer\n",
        "from sklearn.linear_model import PassiveAggressiveClassifier, SGDClassifier, LogisticRegression\n",
        "from sklearn.naive_bayes import MultinomialNB\n",
        "from gensim.models.doc2vec import Doc2Vec\n",
        "from gensim.models.doc2vec import TaggedDocument\n",
        "from sklearn.metrics import accuracy_score, confusion_matrix, classification_report\n",
        "from sklearn.model_selection import cross_val_score\n",
        "import seaborn as sns\n",
        "import matplotlib.pyplot as plt"
      ]
    },
    {
      "cell_type": "code",
      "source": [
        "#Reading the dataset\n",
        "news_df = pd.read_csv('news.csv')\n",
        "\n",
        "news_df.head()"
      ],
      "metadata": {
        "colab": {
          "base_uri": "https://localhost:8080/",
          "height": 206
        },
        "id": "o3Lc41dBJ4PI",
        "outputId": "ee38ac97-62ba-47fb-d365-1c711a94371d"
      },
      "execution_count": null,
      "outputs": [
        {
          "output_type": "execute_result",
          "data": {
            "text/plain": [
              "   Unnamed: 0                                              title  \\\n",
              "0        8476                       You Can Smell Hillary’s Fear   \n",
              "1       10294  Watch The Exact Moment Paul Ryan Committed Pol...   \n",
              "2        3608        Kerry to go to Paris in gesture of sympathy   \n",
              "3       10142  Bernie supporters on Twitter erupt in anger ag...   \n",
              "4         875   The Battle of New York: Why This Primary Matters   \n",
              "\n",
              "                                                text label  \n",
              "0  Daniel Greenfield, a Shillman Journalism Fello...  FAKE  \n",
              "1  Google Pinterest Digg Linkedin Reddit Stumbleu...  FAKE  \n",
              "2  U.S. Secretary of State John F. Kerry said Mon...  REAL  \n",
              "3  — Kaydee King (@KaydeeKing) November 9, 2016 T...  FAKE  \n",
              "4  It's primary day in New York and front-runners...  REAL  "
            ],
            "text/html": [
              "\n",
              "  <div id=\"df-f79c5aa6-622d-4bcc-a22f-ca5c27f76181\" class=\"colab-df-container\">\n",
              "    <div>\n",
              "<style scoped>\n",
              "    .dataframe tbody tr th:only-of-type {\n",
              "        vertical-align: middle;\n",
              "    }\n",
              "\n",
              "    .dataframe tbody tr th {\n",
              "        vertical-align: top;\n",
              "    }\n",
              "\n",
              "    .dataframe thead th {\n",
              "        text-align: right;\n",
              "    }\n",
              "</style>\n",
              "<table border=\"1\" class=\"dataframe\">\n",
              "  <thead>\n",
              "    <tr style=\"text-align: right;\">\n",
              "      <th></th>\n",
              "      <th>Unnamed: 0</th>\n",
              "      <th>title</th>\n",
              "      <th>text</th>\n",
              "      <th>label</th>\n",
              "    </tr>\n",
              "  </thead>\n",
              "  <tbody>\n",
              "    <tr>\n",
              "      <th>0</th>\n",
              "      <td>8476</td>\n",
              "      <td>You Can Smell Hillary’s Fear</td>\n",
              "      <td>Daniel Greenfield, a Shillman Journalism Fello...</td>\n",
              "      <td>FAKE</td>\n",
              "    </tr>\n",
              "    <tr>\n",
              "      <th>1</th>\n",
              "      <td>10294</td>\n",
              "      <td>Watch The Exact Moment Paul Ryan Committed Pol...</td>\n",
              "      <td>Google Pinterest Digg Linkedin Reddit Stumbleu...</td>\n",
              "      <td>FAKE</td>\n",
              "    </tr>\n",
              "    <tr>\n",
              "      <th>2</th>\n",
              "      <td>3608</td>\n",
              "      <td>Kerry to go to Paris in gesture of sympathy</td>\n",
              "      <td>U.S. Secretary of State John F. Kerry said Mon...</td>\n",
              "      <td>REAL</td>\n",
              "    </tr>\n",
              "    <tr>\n",
              "      <th>3</th>\n",
              "      <td>10142</td>\n",
              "      <td>Bernie supporters on Twitter erupt in anger ag...</td>\n",
              "      <td>— Kaydee King (@KaydeeKing) November 9, 2016 T...</td>\n",
              "      <td>FAKE</td>\n",
              "    </tr>\n",
              "    <tr>\n",
              "      <th>4</th>\n",
              "      <td>875</td>\n",
              "      <td>The Battle of New York: Why This Primary Matters</td>\n",
              "      <td>It's primary day in New York and front-runners...</td>\n",
              "      <td>REAL</td>\n",
              "    </tr>\n",
              "  </tbody>\n",
              "</table>\n",
              "</div>\n",
              "    <div class=\"colab-df-buttons\">\n",
              "\n",
              "  <div class=\"colab-df-container\">\n",
              "    <button class=\"colab-df-convert\" onclick=\"convertToInteractive('df-f79c5aa6-622d-4bcc-a22f-ca5c27f76181')\"\n",
              "            title=\"Convert this dataframe to an interactive table.\"\n",
              "            style=\"display:none;\">\n",
              "\n",
              "  <svg xmlns=\"http://www.w3.org/2000/svg\" height=\"24px\" viewBox=\"0 -960 960 960\">\n",
              "    <path d=\"M120-120v-720h720v720H120Zm60-500h600v-160H180v160Zm220 220h160v-160H400v160Zm0 220h160v-160H400v160ZM180-400h160v-160H180v160Zm440 0h160v-160H620v160ZM180-180h160v-160H180v160Zm440 0h160v-160H620v160Z\"/>\n",
              "  </svg>\n",
              "    </button>\n",
              "\n",
              "  <style>\n",
              "    .colab-df-container {\n",
              "      display:flex;\n",
              "      gap: 12px;\n",
              "    }\n",
              "\n",
              "    .colab-df-convert {\n",
              "      background-color: #E8F0FE;\n",
              "      border: none;\n",
              "      border-radius: 50%;\n",
              "      cursor: pointer;\n",
              "      display: none;\n",
              "      fill: #1967D2;\n",
              "      height: 32px;\n",
              "      padding: 0 0 0 0;\n",
              "      width: 32px;\n",
              "    }\n",
              "\n",
              "    .colab-df-convert:hover {\n",
              "      background-color: #E2EBFA;\n",
              "      box-shadow: 0px 1px 2px rgba(60, 64, 67, 0.3), 0px 1px 3px 1px rgba(60, 64, 67, 0.15);\n",
              "      fill: #174EA6;\n",
              "    }\n",
              "\n",
              "    .colab-df-buttons div {\n",
              "      margin-bottom: 4px;\n",
              "    }\n",
              "\n",
              "    [theme=dark] .colab-df-convert {\n",
              "      background-color: #3B4455;\n",
              "      fill: #D2E3FC;\n",
              "    }\n",
              "\n",
              "    [theme=dark] .colab-df-convert:hover {\n",
              "      background-color: #434B5C;\n",
              "      box-shadow: 0px 1px 3px 1px rgba(0, 0, 0, 0.15);\n",
              "      filter: drop-shadow(0px 1px 2px rgba(0, 0, 0, 0.3));\n",
              "      fill: #FFFFFF;\n",
              "    }\n",
              "  </style>\n",
              "\n",
              "    <script>\n",
              "      const buttonEl =\n",
              "        document.querySelector('#df-f79c5aa6-622d-4bcc-a22f-ca5c27f76181 button.colab-df-convert');\n",
              "      buttonEl.style.display =\n",
              "        google.colab.kernel.accessAllowed ? 'block' : 'none';\n",
              "\n",
              "      async function convertToInteractive(key) {\n",
              "        const element = document.querySelector('#df-f79c5aa6-622d-4bcc-a22f-ca5c27f76181');\n",
              "        const dataTable =\n",
              "          await google.colab.kernel.invokeFunction('convertToInteractive',\n",
              "                                                    [key], {});\n",
              "        if (!dataTable) return;\n",
              "\n",
              "        const docLinkHtml = 'Like what you see? Visit the ' +\n",
              "          '<a target=\"_blank\" href=https://colab.research.google.com/notebooks/data_table.ipynb>data table notebook</a>'\n",
              "          + ' to learn more about interactive tables.';\n",
              "        element.innerHTML = '';\n",
              "        dataTable['output_type'] = 'display_data';\n",
              "        await google.colab.output.renderOutput(dataTable, element);\n",
              "        const docLink = document.createElement('div');\n",
              "        docLink.innerHTML = docLinkHtml;\n",
              "        element.appendChild(docLink);\n",
              "      }\n",
              "    </script>\n",
              "  </div>\n",
              "\n",
              "\n",
              "<div id=\"df-c1db27b4-5ae9-49bb-b1de-53351bb5aa34\">\n",
              "  <button class=\"colab-df-quickchart\" onclick=\"quickchart('df-c1db27b4-5ae9-49bb-b1de-53351bb5aa34')\"\n",
              "            title=\"Suggest charts\"\n",
              "            style=\"display:none;\">\n",
              "\n",
              "<svg xmlns=\"http://www.w3.org/2000/svg\" height=\"24px\"viewBox=\"0 0 24 24\"\n",
              "     width=\"24px\">\n",
              "    <g>\n",
              "        <path d=\"M19 3H5c-1.1 0-2 .9-2 2v14c0 1.1.9 2 2 2h14c1.1 0 2-.9 2-2V5c0-1.1-.9-2-2-2zM9 17H7v-7h2v7zm4 0h-2V7h2v10zm4 0h-2v-4h2v4z\"/>\n",
              "    </g>\n",
              "</svg>\n",
              "  </button>\n",
              "\n",
              "<style>\n",
              "  .colab-df-quickchart {\n",
              "      --bg-color: #E8F0FE;\n",
              "      --fill-color: #1967D2;\n",
              "      --hover-bg-color: #E2EBFA;\n",
              "      --hover-fill-color: #174EA6;\n",
              "      --disabled-fill-color: #AAA;\n",
              "      --disabled-bg-color: #DDD;\n",
              "  }\n",
              "\n",
              "  [theme=dark] .colab-df-quickchart {\n",
              "      --bg-color: #3B4455;\n",
              "      --fill-color: #D2E3FC;\n",
              "      --hover-bg-color: #434B5C;\n",
              "      --hover-fill-color: #FFFFFF;\n",
              "      --disabled-bg-color: #3B4455;\n",
              "      --disabled-fill-color: #666;\n",
              "  }\n",
              "\n",
              "  .colab-df-quickchart {\n",
              "    background-color: var(--bg-color);\n",
              "    border: none;\n",
              "    border-radius: 50%;\n",
              "    cursor: pointer;\n",
              "    display: none;\n",
              "    fill: var(--fill-color);\n",
              "    height: 32px;\n",
              "    padding: 0;\n",
              "    width: 32px;\n",
              "  }\n",
              "\n",
              "  .colab-df-quickchart:hover {\n",
              "    background-color: var(--hover-bg-color);\n",
              "    box-shadow: 0 1px 2px rgba(60, 64, 67, 0.3), 0 1px 3px 1px rgba(60, 64, 67, 0.15);\n",
              "    fill: var(--button-hover-fill-color);\n",
              "  }\n",
              "\n",
              "  .colab-df-quickchart-complete:disabled,\n",
              "  .colab-df-quickchart-complete:disabled:hover {\n",
              "    background-color: var(--disabled-bg-color);\n",
              "    fill: var(--disabled-fill-color);\n",
              "    box-shadow: none;\n",
              "  }\n",
              "\n",
              "  .colab-df-spinner {\n",
              "    border: 2px solid var(--fill-color);\n",
              "    border-color: transparent;\n",
              "    border-bottom-color: var(--fill-color);\n",
              "    animation:\n",
              "      spin 1s steps(1) infinite;\n",
              "  }\n",
              "\n",
              "  @keyframes spin {\n",
              "    0% {\n",
              "      border-color: transparent;\n",
              "      border-bottom-color: var(--fill-color);\n",
              "      border-left-color: var(--fill-color);\n",
              "    }\n",
              "    20% {\n",
              "      border-color: transparent;\n",
              "      border-left-color: var(--fill-color);\n",
              "      border-top-color: var(--fill-color);\n",
              "    }\n",
              "    30% {\n",
              "      border-color: transparent;\n",
              "      border-left-color: var(--fill-color);\n",
              "      border-top-color: var(--fill-color);\n",
              "      border-right-color: var(--fill-color);\n",
              "    }\n",
              "    40% {\n",
              "      border-color: transparent;\n",
              "      border-right-color: var(--fill-color);\n",
              "      border-top-color: var(--fill-color);\n",
              "    }\n",
              "    60% {\n",
              "      border-color: transparent;\n",
              "      border-right-color: var(--fill-color);\n",
              "    }\n",
              "    80% {\n",
              "      border-color: transparent;\n",
              "      border-right-color: var(--fill-color);\n",
              "      border-bottom-color: var(--fill-color);\n",
              "    }\n",
              "    90% {\n",
              "      border-color: transparent;\n",
              "      border-bottom-color: var(--fill-color);\n",
              "    }\n",
              "  }\n",
              "</style>\n",
              "\n",
              "  <script>\n",
              "    async function quickchart(key) {\n",
              "      const quickchartButtonEl =\n",
              "        document.querySelector('#' + key + ' button');\n",
              "      quickchartButtonEl.disabled = true;  // To prevent multiple clicks.\n",
              "      quickchartButtonEl.classList.add('colab-df-spinner');\n",
              "      try {\n",
              "        const charts = await google.colab.kernel.invokeFunction(\n",
              "            'suggestCharts', [key], {});\n",
              "      } catch (error) {\n",
              "        console.error('Error during call to suggestCharts:', error);\n",
              "      }\n",
              "      quickchartButtonEl.classList.remove('colab-df-spinner');\n",
              "      quickchartButtonEl.classList.add('colab-df-quickchart-complete');\n",
              "    }\n",
              "    (() => {\n",
              "      let quickchartButtonEl =\n",
              "        document.querySelector('#df-c1db27b4-5ae9-49bb-b1de-53351bb5aa34 button');\n",
              "      quickchartButtonEl.style.display =\n",
              "        google.colab.kernel.accessAllowed ? 'block' : 'none';\n",
              "    })();\n",
              "  </script>\n",
              "</div>\n",
              "\n",
              "    </div>\n",
              "  </div>\n"
            ],
            "application/vnd.google.colaboratory.intrinsic+json": {
              "type": "dataframe",
              "variable_name": "news_df",
              "summary": "{\n  \"name\": \"news_df\",\n  \"rows\": 6335,\n  \"fields\": [\n    {\n      \"column\": \"Unnamed: 0\",\n      \"properties\": {\n        \"dtype\": \"number\",\n        \"std\": 3038,\n        \"min\": 2,\n        \"max\": 10557,\n        \"num_unique_values\": 6335,\n        \"samples\": [\n          9957,\n          7596,\n          8905\n        ],\n        \"semantic_type\": \"\",\n        \"description\": \"\"\n      }\n    },\n    {\n      \"column\": \"title\",\n      \"properties\": {\n        \"dtype\": \"string\",\n        \"num_unique_values\": 6256,\n        \"samples\": [\n          \"Elizabeth Warren's speech attacking Donald Trump made a bigger argument about Republicans\",\n          \"Assange: Clinton And ISIS Are Funded By Same People, \\u201cTrump Not Permitted To Win\\u201d\",\n          \"Reporters Stunned to Learn Trump Fans Lining Up 12 Hours Before Rally Starts\"\n        ],\n        \"semantic_type\": \"\",\n        \"description\": \"\"\n      }\n    },\n    {\n      \"column\": \"text\",\n      \"properties\": {\n        \"dtype\": \"string\",\n        \"num_unique_values\": 6060,\n        \"samples\": [\n          \"Republicans taking control of Congress this coming week will try to overcome their reputation as a divided party hobbled by infighting by working to reshape policy in ways that Americans will feel in corporate boardrooms, on factory floors and at the gas pump.\\n\\nIncoming committee chairmen are preparing fresh oversight of federal agencies while rank-and-file members will be encouraged to use a new budget plan and government spending bills to chip away at President Obama\\u2019s environmental regulations, health-care reform and outreach to Cuba and Iran.\\n\\nAfter years of sparring with the White House, Republicans are eager to demonstrate productivity and some level of bipartisan \\u00adcooperation with Obama and the Democrats. Public disgust with Washington gridlock remains high, and with the 2016 presidential campaign beginning in earnest, broader voter interest \\u2014 especially among independents and Democrats \\u2014 could put recent GOP gains at risk in less than two years.\\n\\n\\u201cOn the things where we agree, the goal will be to make a law, not just put something on [Obama\\u2019s] desk,\\u201d incoming Senate Majority Leader Mitch McConnell (R-Ky.) said in an interview, adding later: \\u201cI want to make it clear: Desire for a signature is not going to dictate everything that we do.\\u201d\\n\\nSecuring final passage of bills will require McConnell and House Speaker John A. Boehner (R-Ohio) to compromise with Democrats while holding together their own ranks, which have clashed repeatedly over issues such as spending and immigration. Many GOP leaders hope that their differences can be set aside in favor of legislative wins.\\n\\nThe House and Senate formally reconvene Tuesday. New members will be sworn in and top leaders and committee chairmen formally installed on a day steeped in tradition and ceremony.\\n\\nBoehner and McConnell will be backed by larger GOP majorities: 246 Republicans in the House \\u2014 the party\\u2019s largest majority since just after World War II \\u2014 and 54 GOP senators, an impressive gain but short of the 60 votes required to overcome most procedural hurdles that Democrats will have at their disposal.\\n\\nIn the Senate, the rebranding effort will begin with energy policy.\\n\\nMcConnell plans to start his tenure as Senate majority leader with a \\u201cfull-throated\\u201d debate on national energy policy, ranging from a new oil pipeline to additional oil exploration. He has also promised consideration of liberal alternatives.\\n\\nMcConnell wants to use the controversial proposal to authorize construction of the Keystone XL pipeline as the gen\\u00adesis for a free-wheeling Senate debate about the United States\\u2019 energy future, in which both sides will have the opportunity to offer and debate more expansive energy issues than the narrow pipeline proposal.\\n\\n\\u201cWe can treat this like a serious and significant energy debate,\\u201d McConnell said in an interview before Christmas in his Capitol office.\\n\\nObama has resisted GOP efforts to authorize the pipeline, but dozens of moderate congressional Democrats support the bill and a broader energy debate.\\n\\nOther Democrats are skeptical of McConnell\\u2019s plans.\\n\\n\\u201cThe $64,000 question as to whether the Congress can get anything done is which way the Republican leadership goes,\\u201d Sen. Charles E. Schumer (D-N.Y.) said in an interview Saturday. \\u201cIf they let the tea party pull them to the right into the path of negativity and obstruction, we\\u2019ll get nothing done.\\u201d\\n\\nSen. John Hoeven (R-N.D.), a lead author of the Keystone bill, said that Republicans plan to consider proposals allowing the export of liquefied natural gas; to give state governments greater power to oversee hydraulic fracturing; and to restrict the federal government\\u2019s role in the construction of cross-border gas pipelines.\\n\\n\\u201cI don\\u2019t think we have an energy bill that doesn\\u2019t have a Democratic co-sponsor on it,\\u201d he said. \\u201cBecause at the end of the day you\\u2019ve got to get at least 60 votes\\u201d to clear procedural hurdles.\\n\\nThe open process is part of McConnell\\u2019s effort to live up to his pledge to restore the Senate\\u2019s grand tradition of free and full debate, while also advancing conservative causes. A skilled practitioner in the use of the Senate\\u2019s arcane procedural rules to move or block legislation, McConnell has pledged to use those rules to score conservative wins. He has been coaching GOP senators that their most likely path to wins will come on the annual spending bills for the federal government \\u2014 which Republicans have routinely opposed on the grounds that they spend too much taxpayer money.\\n\\nOther party leaders echo those sentiments. \\u201cI think a majority [of Republicans] recognize that we have to govern responsibly,\\u201d said Sen. John McCain (R-Ariz.), who will become chairman of the Armed Services Committee. \\u201cWe have to show that we can be a productive party, and that, I think, will have a direct effect on whether we\\u2019re able to elect a Republican as president in 2016.\\u201d\\n\\nBut now, with control of the House and Senate, Republicans have more leeway to attach policy riders to spending bills that will restrict federal agencies in their oversight of environmental, labor and other regulations. These still may draw presidential vetoes, but McConnell believes that Republicans will have leverage to get some restrictions included, just as the mammoth spending measure approved last month included language sought by Wall Street firms making risky trades.\\n\\nIn the House, most of the early weeks will seem like a do-over of the past two years \\u2014 except that many of the bills passed will get swifter Senate consideration.\\n\\nUp first is a veterans employment bill that passed last year with bipartisan support, according to senior leadership aides. There is also a bill to loosen work requirements set by the Affordable Care Act and a similar bill to authorize the Keystone pipeline.\\n\\nThe second week of January will be devoted to a new spending plan for the Department of Homeland Security. The spending bill funds DHS only until the end of February, a move designed to give Republicans more time to craft a legislative response to Obama\\u2019s decision to change immigration policy through executive actions. But no specific proposals have emerged, the aides said.\\n\\nThen there are the investigations into alleged wrongdoing at agencies including the Internal Revenue Service, the Justice Department and the Environmental Protection Agency.\\n\\n\\u201cThere are issues that haven\\u2019t been resolved,\\u201d said Rep. Jason Chaffetz (R-Utah), the new chairman of the House Oversight and Government Reform Committee.\\n\\nHe is launching subcommittees to closely track Obama\\u2019s energy and environmental policies and created \\u201cadministrative rules,\\u201d a panel that will \\u201ctry to figure out what the administration is doing next with its rule-making authority. We\\u2019re going to jump on those as fast as we possibly can,\\u201d he said.\\n\\nBefore the work begins, Boehner is expected to face another leadership challenge. After he survived a close call two years ago, conservative blogs and radio shows are actively supporting another effort to unseat him.\\n\\nPresuming that the 434 currently seated House members show up to vote Tuesday and that all Democrats vote against him, at least 28 of the 246 Republicans also would need to vote against Boehner to deny him the gavel. (The 435th House seat is held by Rep. Michael G. Grimm (R-N.Y.), who plans to resign Monday after recently pleading guilty to tax evasion charges.)\\n\\nRep. Walter B. Jones (R-N.C.), who opposed Boehner two years ago, said in a recent radio interview that he\\u2019ll do it again, adding that at least 16 to 18 Republican members might vote against the speaker. Among them is Rep. Jim Bridenstine (R-Okla.), who said Friday that he will vote against the speaker because the spending bill passed last month didn\\u2019t fully strip DHS of its funding.\\n\\nRep. Tom Cole (R-Okla.), a Boehner ally, said in an interview that \\u201cI expect a few scattered \\u2018no\\u2019 votes. But because Boehner has been strengthened by the gains in the election, the speaker election should mostly be an uneventful coronation.\\u201d\\n\\nThe opening weeks of the new Congress are also expected to include the confirmation of Ashton Carter, Obama\\u2019s pick to lead the Pentagon, and Loretta Lynch to be the next attorney general. Concerns with Iran are also expected to be an early focus. The Obama administration persuaded Senate Democrats last year to hold off debating a bipartisan proposal authorizing stronger sanctions against the Iranian regime.\\n\\nBut Sen. Bob Corker (R-Tenn.), the incoming chairman of the Foreign Relations Committee, said, \\u201cMy guess is fairly early on in some form or fashion the Senate\\u2019s going to want to weigh in on Iran.\\u201d\\n\\nCorker also plans to launch \\u201ca rigorous hearing process\\u201d on Obama\\u2019s decision to restore diplomatic relations with Cuba. Republicans have threatened to block funding for a new embassy in Havana and confirmation of a new ambassador to Cuba. But Obama could veto spending bills that include such restrictions, sparking a showdown over whether the GOP is willing to shutter parts of the government over a new Cuba policy.\\n\\nIn 2016, Republicans will be defending at least 24 Senate seats and about a dozen first-term House members from swing districts around the country. Party leaders have a political imperative to govern and avoid short-term fights with Obama.\\n\\n\\u201cWe will see if there is an opportunity for a fourth quarter for President Obama that actually moves the country in the direction we\\u2019d like to go,\\u201d said Sen. Roger Wicker (R-Miss.), who also will be responsible for helping reelect GOP senators in 2016.\\n\\n\\u201cReagan did it a generation ago working with Democrats. Clinton did it almost two decades ago with welfare reform and deficit reduction,\\u201d he said. \\u201cSo it can be done \\u2014 if the president is disposed to move in that direction.\\u201d\",\n          \"Reps. Kevin McCarthy, R-California, Jason Chaffetz, R-Utah, and Daniel Webster, R-Florida, are the three candidates vying for the post, and the winner becomes the favorite to become second in line to succeed the President of the United States.\\n\\nBut Thursday's vote inside the House GOP conference is just the first step. The candidate who gets the Republican party's internal nod still has to be approved by the full House of Representatives on October 29. And that's where things can get tricky.\\n\\nIf the Republican nominee can't garner 218 votes on the House floor, then Boehner will remain the speaker. And the potential for multiple rounds of votes on the House floor could open up the election to other candidates beyond the three that are in the race now. It would also prolong the deeply divisive and public process for House Republicans, who are hoping to chart a new path forward and prove they can make the dysfunctional Capitol work.\\n\\nThe three candidates will make their pitch to GOP colleagues at a \\\"candidate forum\\\" on Thursday morning in a conference room in the basement of the Capitol. Each gets three minutes to make a speech before answering questions from members. At noon, the 247 members of the House Republican conference gather in the ornate Ways and Means Committee room to vote. Under the House GOP conference rules, the three candidates are not allowed to make their own speeches. Instead each can designate one supporter to make a three-minute address nominating them for the post. Then up to two additional supporters can speak for another minute each on the candidate's behalf. To win the GOP nomination, a candidate needs a simple majority of all House Republicans -- or 125 votes. (That number could change if any House Republicans are absent or opts not to vote in the election.) Boehner plans to vote for McCarthy before heading to New York to tape an appearance on \\\"The Tonight Show,\\\" according to a spokesman. The delegate from American Samoa, Amata Radewagen, who doesn't get a vote on the House floor, does get to cast a vote for speaker inside the conference meeting. RELATED: John Boehner to appear on 'The Tonight Show' Three members serve as \\\"tally clerks\\\" and collect the ballots and count how many votes each candidate receives. Once all the ballots are counted, a representative of the conference will announce the results, along with the vote totals. If no candidate gets a majority of the conference on the first vote, a second ballot circulates with the names of the top two vote-getters, and a winner is announced after those ballots are counted. The new speaker can't take the gavel from Boehner until the full House of Representatives votes. Unlike the private contest on Thursday, the floor vote is covered live by C-SPAN's television cameras inside the House chamber. Each member of Congress is called on in alphabetical order to stand and announce their choice for speaker. The winner must win the votes of a majority -- 218, if everyone in the House is present -- in order to win. The vast majority of House Democrats are expected for to vote for former Speaker and current Minority Leader Nancy Pelosi. House Republican conference rules require that GOP members support their party's nominee on the floor, but many conservatives have ignored that rule in recent elections. That's where any drama will occur. If the GOP nominee fails to get a majority, the contest on the House floor could go to multiple ballots. Boehner will remain the speaker until a majority of the House votes to elect a new candidate. The last time it took more than one ballot to elect a speaker was in 1923 when it took nine ballots over the course of three days. And you don't need to be in the House to get the job. The Constitution does not require that the speaker be someone currently serving in Congress, but all who have been elected to the post have been House members. Former Secretary of State Colin Powell, Sen. Rand Paul and Sen. Jeff Sessions received votes in the January 2015 election . And two years earlier, David Walker, the former head of the General Accounting Office, received one vote\",\n          \"Over the last six years, the Obama administration has been trying to address global warming\\u00a0with a flurry of rules aimed at reducing US carbon-dioxide emissions. First there were stricter fuel-economy standards for cars and trucks. More recently, the EPA\\u00a0proposed sweeping carbon regulations for coal-fired power plants (known as the \\\"Clean Power Plan\\\").\\n\\nThe overarching goal was to cut US greenhouse-gas emissions 17 percent below 2005 levels by 2020. That, the administration believed, would help advance global climate talks.\\n\\nBut all of Obama's moves so far\\u00a0have been insufficient to get to that 17 percent cut by 2020. As recent analyses from the Rhodium Group and the Clean Air Task Force\\u00a0have argued, the US also needs to reduce methane emissions dramatically to get there:\\n\\nCarbon-dioxide is the biggest greenhouse gas responsible for global warming. But it's not the only one. There's also\\u00a0methane.\\u00a0The US burns a lot of methane \\u2014 known as \\\"natural gas\\\" \\u2014 for energy. But when methane leaks out of oil and gas wells or pipelines and into the atmosphere, it acts as a potent greenhouse gas. (The White House says it's 25 times as effective at trapping heat as carbon dioxide. Other scientists say 34 times.)\\n\\nIn 2012, the EPA estimated that methane accounted for roughly\\u00a08.7 percent of US greenhouse-gas emissions (though this may be an\\u00a0underestimate). But experts have warned that methane leaks could be poised to grow in the coming years.\\n\\nThanks to the\\u00a0fracking boom, US energy companies have been extracting more and more natural gas from shale formations. On one level, that's good news for climate change: utilities are now burning more natural gas for electricity instead of coal, which means lower carbon-dioxide emissions from power plants.\\n\\nThe problem is that all this new drilling increases the risk of methane leaking into the air \\u2014 and those leaks\\u00a0are undermining the climate benefits of the gas boom.\\n\\nIn theory, it should be doable to plug these methane emissions,\\u00a0which can come from leaky pipelines or faulty drilling operations. Many companies already\\u00a0use infrared cameras to detect leaks and plug them. And they have financial incentives to do so \\u2014 after all, these companies would rather capture that methane and sell it for money than just have it float off into the air.\\n\\nMany oil and gas companies are already taking steps to detect and plug leaks\\n\\nStill, the White House wants to make sure these leaks really get plugged. So, on Wednesday, it\\u00a0announced a goal of cutting methane emissions from oil and gas operations 45 percent below 2012 levels by 2025.\\n\\nThis would be done through a combination of guidelines for voluntary actions by the industry and a hodgepodge of new regulations\\u00a0crafted by the EPA and other agencies. Some rules would focus on methane leaks from new oil and gas wells. Others would focus on pipelines used to transport the natural gas. The Interior Department is updating standards for drilling on public lands.\\n\\nThe White House noted that the oil and gas industry has already managed to cut methane emissions 16 percent since 1990 through voluntary measures. \\\"Nevertheless,\\\" it added, \\\"emissions from the oil and gas sector are projected to rise more than 25 percent by 2025 without additional steps to lower them.\\\"\\n\\nSome environmental groups said the White House's plan didn't go far enough. For example, the EPA is currently only working on rules to reduce emissions at new oil and gas wells \\u2014 and only much later will they work on rules for\\u00a0existing wells, which are by far the biggest source of emissions.\\n\\n\\\"While setting methane standards for the first time is an important step, failing to immediately regulate existing oil and gas equipment nationwide misses 90% of the methane pollution from the industry,\\\" Conrad Schneider of the Clean Air Task Force said in a statement.\\n\\nJayni Hein, policy director at the Institute for Policy Integrity at NYU School of Law, agreed: \\\"EPA's steps announced today would trim the sector's methane releases by about a third. We can and should go farther by regulating existing oil and natural gas sources.\\\"\\n\\nBy contrast, many oil and gas companies don't want new regulations at all \\u2014 they argue that the industry is already curbing methane leaks as is.\\u00a0\\\"Emissions will continue to fall as operators innovate and find new ways to capture and deliver more methane to consumers,\\\" said Jack Gerard, head of the American Petroleum Institute, in a statement. \\\"Existing EPA and state regulations are working. Another layer of burdensome requirements could actually slow down industry progress to reduce methane emissions.\\\"\\n\\nMeanwhile, it's worth noting that there are other sources of methane besides oil and gas. In 2012,\\u00a0according to the EPA, roughly 30 percent of methane in the United States came from natural-gas and petroleum operations (though, again, that may be an undercount).\\n\\nObama is relying on voluntary measures for methane in agriculture\\n\\n-- By contrast,\\u00a036 percent of US.methane emissions came from agriculture. The beef and dairy industry is a major contributor here: when cows belch, they produce methane (known as \\\"enteric fermentation\\\"). Other sources include decomposing cow manure, as well as methane from rice cultivation.\\n\\n-- Another\\u00a018 percent came from landfills. When food and other trash decays in a landfill, the organisms that feed on that trash emit methane into the atmosphere.\\n\\nThe Obama administration\\u00a0has been working on steps to cut methane in these areas, too. Back in March, the EPA announced it would come up with standards to reduce methane from all future landfills. It will then solicit public comments on whether to regulate landfills that have already been built.\\n\\nAs for cow burps, however, the administration is relying on purely voluntary measures for now. In June 2014, the EPA unveiled a \\\"partnership\\\" with the dairy industry to speed up the adoption of methane digesters that turn cow dung into energy. The hope is to reduce methane emissions from the dairy sector 25 percent by 2020.\\n\\nFurther reading: Obama has promised to cut US emissions 17% by 2020. Is that still possible?\"\n        ],\n        \"semantic_type\": \"\",\n        \"description\": \"\"\n      }\n    },\n    {\n      \"column\": \"label\",\n      \"properties\": {\n        \"dtype\": \"category\",\n        \"num_unique_values\": 2,\n        \"samples\": [\n          \"REAL\",\n          \"FAKE\"\n        ],\n        \"semantic_type\": \"\",\n        \"description\": \"\"\n      }\n    }\n  ]\n}"
            }
          },
          "metadata": {},
          "execution_count": 3
        }
      ]
    },
    {
      "cell_type": "code",
      "source": [
        "news_df.shape"
      ],
      "metadata": {
        "colab": {
          "base_uri": "https://localhost:8080/"
        },
        "id": "UIhb4mySLAPw",
        "outputId": "7abf1226-a8d8-405c-913f-219963ba262e"
      },
      "execution_count": null,
      "outputs": [
        {
          "output_type": "execute_result",
          "data": {
            "text/plain": [
              "(6335, 4)"
            ]
          },
          "metadata": {},
          "execution_count": 4
        }
      ]
    },
    {
      "cell_type": "markdown",
      "source": [
        "Data Exploration"
      ],
      "metadata": {
        "id": "A087nMJDKHsg"
      }
    },
    {
      "cell_type": "code",
      "source": [
        "#structure and basic information\n",
        "news_df.info()"
      ],
      "metadata": {
        "colab": {
          "base_uri": "https://localhost:8080/"
        },
        "id": "X5fG3CqaKLQ7",
        "outputId": "adc03058-9149-4387-dd41-c598330024b7"
      },
      "execution_count": null,
      "outputs": [
        {
          "output_type": "stream",
          "name": "stdout",
          "text": [
            "<class 'pandas.core.frame.DataFrame'>\n",
            "RangeIndex: 6335 entries, 0 to 6334\n",
            "Data columns (total 4 columns):\n",
            " #   Column      Non-Null Count  Dtype \n",
            "---  ------      --------------  ----- \n",
            " 0   Unnamed: 0  6335 non-null   int64 \n",
            " 1   title       6335 non-null   object\n",
            " 2   text        6335 non-null   object\n",
            " 3   label       6335 non-null   object\n",
            "dtypes: int64(1), object(3)\n",
            "memory usage: 198.1+ KB\n"
          ]
        }
      ]
    },
    {
      "cell_type": "code",
      "source": [
        "#Descriptive Statistics\n",
        "news_df.describe()"
      ],
      "metadata": {
        "colab": {
          "base_uri": "https://localhost:8080/",
          "height": 300
        },
        "id": "tHgZWdMTKOYr",
        "outputId": "9283717d-1b7d-4bb0-bd79-77187a574244"
      },
      "execution_count": null,
      "outputs": [
        {
          "output_type": "execute_result",
          "data": {
            "text/plain": [
              "         Unnamed: 0\n",
              "count   6335.000000\n",
              "mean    5280.415627\n",
              "std     3038.503953\n",
              "min        2.000000\n",
              "25%     2674.500000\n",
              "50%     5271.000000\n",
              "75%     7901.000000\n",
              "max    10557.000000"
            ],
            "text/html": [
              "\n",
              "  <div id=\"df-47ecd679-f524-4071-9f2f-94f5fff6f659\" class=\"colab-df-container\">\n",
              "    <div>\n",
              "<style scoped>\n",
              "    .dataframe tbody tr th:only-of-type {\n",
              "        vertical-align: middle;\n",
              "    }\n",
              "\n",
              "    .dataframe tbody tr th {\n",
              "        vertical-align: top;\n",
              "    }\n",
              "\n",
              "    .dataframe thead th {\n",
              "        text-align: right;\n",
              "    }\n",
              "</style>\n",
              "<table border=\"1\" class=\"dataframe\">\n",
              "  <thead>\n",
              "    <tr style=\"text-align: right;\">\n",
              "      <th></th>\n",
              "      <th>Unnamed: 0</th>\n",
              "    </tr>\n",
              "  </thead>\n",
              "  <tbody>\n",
              "    <tr>\n",
              "      <th>count</th>\n",
              "      <td>6335.000000</td>\n",
              "    </tr>\n",
              "    <tr>\n",
              "      <th>mean</th>\n",
              "      <td>5280.415627</td>\n",
              "    </tr>\n",
              "    <tr>\n",
              "      <th>std</th>\n",
              "      <td>3038.503953</td>\n",
              "    </tr>\n",
              "    <tr>\n",
              "      <th>min</th>\n",
              "      <td>2.000000</td>\n",
              "    </tr>\n",
              "    <tr>\n",
              "      <th>25%</th>\n",
              "      <td>2674.500000</td>\n",
              "    </tr>\n",
              "    <tr>\n",
              "      <th>50%</th>\n",
              "      <td>5271.000000</td>\n",
              "    </tr>\n",
              "    <tr>\n",
              "      <th>75%</th>\n",
              "      <td>7901.000000</td>\n",
              "    </tr>\n",
              "    <tr>\n",
              "      <th>max</th>\n",
              "      <td>10557.000000</td>\n",
              "    </tr>\n",
              "  </tbody>\n",
              "</table>\n",
              "</div>\n",
              "    <div class=\"colab-df-buttons\">\n",
              "\n",
              "  <div class=\"colab-df-container\">\n",
              "    <button class=\"colab-df-convert\" onclick=\"convertToInteractive('df-47ecd679-f524-4071-9f2f-94f5fff6f659')\"\n",
              "            title=\"Convert this dataframe to an interactive table.\"\n",
              "            style=\"display:none;\">\n",
              "\n",
              "  <svg xmlns=\"http://www.w3.org/2000/svg\" height=\"24px\" viewBox=\"0 -960 960 960\">\n",
              "    <path d=\"M120-120v-720h720v720H120Zm60-500h600v-160H180v160Zm220 220h160v-160H400v160Zm0 220h160v-160H400v160ZM180-400h160v-160H180v160Zm440 0h160v-160H620v160ZM180-180h160v-160H180v160Zm440 0h160v-160H620v160Z\"/>\n",
              "  </svg>\n",
              "    </button>\n",
              "\n",
              "  <style>\n",
              "    .colab-df-container {\n",
              "      display:flex;\n",
              "      gap: 12px;\n",
              "    }\n",
              "\n",
              "    .colab-df-convert {\n",
              "      background-color: #E8F0FE;\n",
              "      border: none;\n",
              "      border-radius: 50%;\n",
              "      cursor: pointer;\n",
              "      display: none;\n",
              "      fill: #1967D2;\n",
              "      height: 32px;\n",
              "      padding: 0 0 0 0;\n",
              "      width: 32px;\n",
              "    }\n",
              "\n",
              "    .colab-df-convert:hover {\n",
              "      background-color: #E2EBFA;\n",
              "      box-shadow: 0px 1px 2px rgba(60, 64, 67, 0.3), 0px 1px 3px 1px rgba(60, 64, 67, 0.15);\n",
              "      fill: #174EA6;\n",
              "    }\n",
              "\n",
              "    .colab-df-buttons div {\n",
              "      margin-bottom: 4px;\n",
              "    }\n",
              "\n",
              "    [theme=dark] .colab-df-convert {\n",
              "      background-color: #3B4455;\n",
              "      fill: #D2E3FC;\n",
              "    }\n",
              "\n",
              "    [theme=dark] .colab-df-convert:hover {\n",
              "      background-color: #434B5C;\n",
              "      box-shadow: 0px 1px 3px 1px rgba(0, 0, 0, 0.15);\n",
              "      filter: drop-shadow(0px 1px 2px rgba(0, 0, 0, 0.3));\n",
              "      fill: #FFFFFF;\n",
              "    }\n",
              "  </style>\n",
              "\n",
              "    <script>\n",
              "      const buttonEl =\n",
              "        document.querySelector('#df-47ecd679-f524-4071-9f2f-94f5fff6f659 button.colab-df-convert');\n",
              "      buttonEl.style.display =\n",
              "        google.colab.kernel.accessAllowed ? 'block' : 'none';\n",
              "\n",
              "      async function convertToInteractive(key) {\n",
              "        const element = document.querySelector('#df-47ecd679-f524-4071-9f2f-94f5fff6f659');\n",
              "        const dataTable =\n",
              "          await google.colab.kernel.invokeFunction('convertToInteractive',\n",
              "                                                    [key], {});\n",
              "        if (!dataTable) return;\n",
              "\n",
              "        const docLinkHtml = 'Like what you see? Visit the ' +\n",
              "          '<a target=\"_blank\" href=https://colab.research.google.com/notebooks/data_table.ipynb>data table notebook</a>'\n",
              "          + ' to learn more about interactive tables.';\n",
              "        element.innerHTML = '';\n",
              "        dataTable['output_type'] = 'display_data';\n",
              "        await google.colab.output.renderOutput(dataTable, element);\n",
              "        const docLink = document.createElement('div');\n",
              "        docLink.innerHTML = docLinkHtml;\n",
              "        element.appendChild(docLink);\n",
              "      }\n",
              "    </script>\n",
              "  </div>\n",
              "\n",
              "\n",
              "<div id=\"df-6b57caa6-f69a-41ae-96e7-3a2349c09dbb\">\n",
              "  <button class=\"colab-df-quickchart\" onclick=\"quickchart('df-6b57caa6-f69a-41ae-96e7-3a2349c09dbb')\"\n",
              "            title=\"Suggest charts\"\n",
              "            style=\"display:none;\">\n",
              "\n",
              "<svg xmlns=\"http://www.w3.org/2000/svg\" height=\"24px\"viewBox=\"0 0 24 24\"\n",
              "     width=\"24px\">\n",
              "    <g>\n",
              "        <path d=\"M19 3H5c-1.1 0-2 .9-2 2v14c0 1.1.9 2 2 2h14c1.1 0 2-.9 2-2V5c0-1.1-.9-2-2-2zM9 17H7v-7h2v7zm4 0h-2V7h2v10zm4 0h-2v-4h2v4z\"/>\n",
              "    </g>\n",
              "</svg>\n",
              "  </button>\n",
              "\n",
              "<style>\n",
              "  .colab-df-quickchart {\n",
              "      --bg-color: #E8F0FE;\n",
              "      --fill-color: #1967D2;\n",
              "      --hover-bg-color: #E2EBFA;\n",
              "      --hover-fill-color: #174EA6;\n",
              "      --disabled-fill-color: #AAA;\n",
              "      --disabled-bg-color: #DDD;\n",
              "  }\n",
              "\n",
              "  [theme=dark] .colab-df-quickchart {\n",
              "      --bg-color: #3B4455;\n",
              "      --fill-color: #D2E3FC;\n",
              "      --hover-bg-color: #434B5C;\n",
              "      --hover-fill-color: #FFFFFF;\n",
              "      --disabled-bg-color: #3B4455;\n",
              "      --disabled-fill-color: #666;\n",
              "  }\n",
              "\n",
              "  .colab-df-quickchart {\n",
              "    background-color: var(--bg-color);\n",
              "    border: none;\n",
              "    border-radius: 50%;\n",
              "    cursor: pointer;\n",
              "    display: none;\n",
              "    fill: var(--fill-color);\n",
              "    height: 32px;\n",
              "    padding: 0;\n",
              "    width: 32px;\n",
              "  }\n",
              "\n",
              "  .colab-df-quickchart:hover {\n",
              "    background-color: var(--hover-bg-color);\n",
              "    box-shadow: 0 1px 2px rgba(60, 64, 67, 0.3), 0 1px 3px 1px rgba(60, 64, 67, 0.15);\n",
              "    fill: var(--button-hover-fill-color);\n",
              "  }\n",
              "\n",
              "  .colab-df-quickchart-complete:disabled,\n",
              "  .colab-df-quickchart-complete:disabled:hover {\n",
              "    background-color: var(--disabled-bg-color);\n",
              "    fill: var(--disabled-fill-color);\n",
              "    box-shadow: none;\n",
              "  }\n",
              "\n",
              "  .colab-df-spinner {\n",
              "    border: 2px solid var(--fill-color);\n",
              "    border-color: transparent;\n",
              "    border-bottom-color: var(--fill-color);\n",
              "    animation:\n",
              "      spin 1s steps(1) infinite;\n",
              "  }\n",
              "\n",
              "  @keyframes spin {\n",
              "    0% {\n",
              "      border-color: transparent;\n",
              "      border-bottom-color: var(--fill-color);\n",
              "      border-left-color: var(--fill-color);\n",
              "    }\n",
              "    20% {\n",
              "      border-color: transparent;\n",
              "      border-left-color: var(--fill-color);\n",
              "      border-top-color: var(--fill-color);\n",
              "    }\n",
              "    30% {\n",
              "      border-color: transparent;\n",
              "      border-left-color: var(--fill-color);\n",
              "      border-top-color: var(--fill-color);\n",
              "      border-right-color: var(--fill-color);\n",
              "    }\n",
              "    40% {\n",
              "      border-color: transparent;\n",
              "      border-right-color: var(--fill-color);\n",
              "      border-top-color: var(--fill-color);\n",
              "    }\n",
              "    60% {\n",
              "      border-color: transparent;\n",
              "      border-right-color: var(--fill-color);\n",
              "    }\n",
              "    80% {\n",
              "      border-color: transparent;\n",
              "      border-right-color: var(--fill-color);\n",
              "      border-bottom-color: var(--fill-color);\n",
              "    }\n",
              "    90% {\n",
              "      border-color: transparent;\n",
              "      border-bottom-color: var(--fill-color);\n",
              "    }\n",
              "  }\n",
              "</style>\n",
              "\n",
              "  <script>\n",
              "    async function quickchart(key) {\n",
              "      const quickchartButtonEl =\n",
              "        document.querySelector('#' + key + ' button');\n",
              "      quickchartButtonEl.disabled = true;  // To prevent multiple clicks.\n",
              "      quickchartButtonEl.classList.add('colab-df-spinner');\n",
              "      try {\n",
              "        const charts = await google.colab.kernel.invokeFunction(\n",
              "            'suggestCharts', [key], {});\n",
              "      } catch (error) {\n",
              "        console.error('Error during call to suggestCharts:', error);\n",
              "      }\n",
              "      quickchartButtonEl.classList.remove('colab-df-spinner');\n",
              "      quickchartButtonEl.classList.add('colab-df-quickchart-complete');\n",
              "    }\n",
              "    (() => {\n",
              "      let quickchartButtonEl =\n",
              "        document.querySelector('#df-6b57caa6-f69a-41ae-96e7-3a2349c09dbb button');\n",
              "      quickchartButtonEl.style.display =\n",
              "        google.colab.kernel.accessAllowed ? 'block' : 'none';\n",
              "    })();\n",
              "  </script>\n",
              "</div>\n",
              "\n",
              "    </div>\n",
              "  </div>\n"
            ],
            "application/vnd.google.colaboratory.intrinsic+json": {
              "type": "dataframe",
              "summary": "{\n  \"name\": \"news_df\",\n  \"rows\": 8,\n  \"fields\": [\n    {\n      \"column\": \"Unnamed: 0\",\n      \"properties\": {\n        \"dtype\": \"number\",\n        \"std\": 3280.363082848119,\n        \"min\": 2.0,\n        \"max\": 10557.0,\n        \"num_unique_values\": 8,\n        \"samples\": [\n          5280.4156274664565,\n          5271.0,\n          6335.0\n        ],\n        \"semantic_type\": \"\",\n        \"description\": \"\"\n      }\n    }\n  ]\n}"
            }
          },
          "metadata": {},
          "execution_count": 6
        }
      ]
    },
    {
      "cell_type": "code",
      "source": [
        "#Checking for null values\n",
        "news_df.isnull().sum()"
      ],
      "metadata": {
        "colab": {
          "base_uri": "https://localhost:8080/",
          "height": 210
        },
        "id": "t2mgNaDVKRlU",
        "outputId": "78ea45be-d0bf-48e2-a706-d52ac72cb5f1"
      },
      "execution_count": null,
      "outputs": [
        {
          "output_type": "execute_result",
          "data": {
            "text/plain": [
              "Unnamed: 0    0\n",
              "title         0\n",
              "text          0\n",
              "label         0\n",
              "dtype: int64"
            ],
            "text/html": [
              "<div>\n",
              "<style scoped>\n",
              "    .dataframe tbody tr th:only-of-type {\n",
              "        vertical-align: middle;\n",
              "    }\n",
              "\n",
              "    .dataframe tbody tr th {\n",
              "        vertical-align: top;\n",
              "    }\n",
              "\n",
              "    .dataframe thead th {\n",
              "        text-align: right;\n",
              "    }\n",
              "</style>\n",
              "<table border=\"1\" class=\"dataframe\">\n",
              "  <thead>\n",
              "    <tr style=\"text-align: right;\">\n",
              "      <th></th>\n",
              "      <th>0</th>\n",
              "    </tr>\n",
              "  </thead>\n",
              "  <tbody>\n",
              "    <tr>\n",
              "      <th>Unnamed: 0</th>\n",
              "      <td>0</td>\n",
              "    </tr>\n",
              "    <tr>\n",
              "      <th>title</th>\n",
              "      <td>0</td>\n",
              "    </tr>\n",
              "    <tr>\n",
              "      <th>text</th>\n",
              "      <td>0</td>\n",
              "    </tr>\n",
              "    <tr>\n",
              "      <th>label</th>\n",
              "      <td>0</td>\n",
              "    </tr>\n",
              "  </tbody>\n",
              "</table>\n",
              "</div><br><label><b>dtype:</b> int64</label>"
            ]
          },
          "metadata": {},
          "execution_count": 7
        }
      ]
    },
    {
      "cell_type": "markdown",
      "source": [
        "The dataset is well-structured and properly defined, as it contains no null values."
      ],
      "metadata": {
        "id": "7vqQJKxHKXsU"
      }
    },
    {
      "cell_type": "markdown",
      "source": [
        "Now, let us extract the labels given in the dataset"
      ],
      "metadata": {
        "id": "bBxbZMDsLIR1"
      }
    },
    {
      "cell_type": "code",
      "source": [
        "labels = news_df.label\n",
        "\n",
        "labels.head()"
      ],
      "metadata": {
        "colab": {
          "base_uri": "https://localhost:8080/",
          "height": 241
        },
        "id": "V7DxUt1GKoHH",
        "outputId": "af173aec-49c1-4d74-d5b1-be6b2f59ed85"
      },
      "execution_count": null,
      "outputs": [
        {
          "output_type": "execute_result",
          "data": {
            "text/plain": [
              "0    FAKE\n",
              "1    FAKE\n",
              "2    REAL\n",
              "3    FAKE\n",
              "4    REAL\n",
              "Name: label, dtype: object"
            ],
            "text/html": [
              "<div>\n",
              "<style scoped>\n",
              "    .dataframe tbody tr th:only-of-type {\n",
              "        vertical-align: middle;\n",
              "    }\n",
              "\n",
              "    .dataframe tbody tr th {\n",
              "        vertical-align: top;\n",
              "    }\n",
              "\n",
              "    .dataframe thead th {\n",
              "        text-align: right;\n",
              "    }\n",
              "</style>\n",
              "<table border=\"1\" class=\"dataframe\">\n",
              "  <thead>\n",
              "    <tr style=\"text-align: right;\">\n",
              "      <th></th>\n",
              "      <th>label</th>\n",
              "    </tr>\n",
              "  </thead>\n",
              "  <tbody>\n",
              "    <tr>\n",
              "      <th>0</th>\n",
              "      <td>FAKE</td>\n",
              "    </tr>\n",
              "    <tr>\n",
              "      <th>1</th>\n",
              "      <td>FAKE</td>\n",
              "    </tr>\n",
              "    <tr>\n",
              "      <th>2</th>\n",
              "      <td>REAL</td>\n",
              "    </tr>\n",
              "    <tr>\n",
              "      <th>3</th>\n",
              "      <td>FAKE</td>\n",
              "    </tr>\n",
              "    <tr>\n",
              "      <th>4</th>\n",
              "      <td>REAL</td>\n",
              "    </tr>\n",
              "  </tbody>\n",
              "</table>\n",
              "</div><br><label><b>dtype:</b> object</label>"
            ]
          },
          "metadata": {},
          "execution_count": 8
        }
      ]
    },
    {
      "cell_type": "code",
      "source": [
        "labels.value_counts()"
      ],
      "metadata": {
        "colab": {
          "base_uri": "https://localhost:8080/",
          "height": 178
        },
        "id": "IfM3j8ZIANNZ",
        "outputId": "f83e3911-18d3-42c2-d1dd-b79d377df2d3"
      },
      "execution_count": null,
      "outputs": [
        {
          "output_type": "execute_result",
          "data": {
            "text/plain": [
              "label\n",
              "REAL    3171\n",
              "FAKE    3164\n",
              "Name: count, dtype: int64"
            ],
            "text/html": [
              "<div>\n",
              "<style scoped>\n",
              "    .dataframe tbody tr th:only-of-type {\n",
              "        vertical-align: middle;\n",
              "    }\n",
              "\n",
              "    .dataframe tbody tr th {\n",
              "        vertical-align: top;\n",
              "    }\n",
              "\n",
              "    .dataframe thead th {\n",
              "        text-align: right;\n",
              "    }\n",
              "</style>\n",
              "<table border=\"1\" class=\"dataframe\">\n",
              "  <thead>\n",
              "    <tr style=\"text-align: right;\">\n",
              "      <th></th>\n",
              "      <th>count</th>\n",
              "    </tr>\n",
              "    <tr>\n",
              "      <th>label</th>\n",
              "      <th></th>\n",
              "    </tr>\n",
              "  </thead>\n",
              "  <tbody>\n",
              "    <tr>\n",
              "      <th>REAL</th>\n",
              "      <td>3171</td>\n",
              "    </tr>\n",
              "    <tr>\n",
              "      <th>FAKE</th>\n",
              "      <td>3164</td>\n",
              "    </tr>\n",
              "  </tbody>\n",
              "</table>\n",
              "</div><br><label><b>dtype:</b> int64</label>"
            ]
          },
          "metadata": {},
          "execution_count": 35
        }
      ]
    },
    {
      "cell_type": "markdown",
      "source": [
        "This indicates that the dataset is nearly evenly distributed between real and fake news articles. A balanced dataset is beneficial for training machine learning models as it reduces the likelihood of the model being biased towards one class, leading to a more accurate and fair prediction of both classes."
      ],
      "metadata": {
        "id": "Z6IaXlMxAfVQ"
      }
    },
    {
      "cell_type": "markdown",
      "source": [
        "Data Preprocessing"
      ],
      "metadata": {
        "id": "_HgOsbWXEzj_"
      }
    },
    {
      "cell_type": "markdown",
      "source": [
        "Handling Punctuation and Special Characters"
      ],
      "metadata": {
        "id": "hGAIO8YbE4HF"
      }
    },
    {
      "cell_type": "code",
      "source": [
        "news_df['text'] = news_df['text'].str.replace('[^a-zA-Z0-9\\s]', '', regex=True)"
      ],
      "metadata": {
        "id": "LASn0ryEAgNv"
      },
      "execution_count": null,
      "outputs": []
    },
    {
      "cell_type": "markdown",
      "source": [
        "Converting the text to lower case"
      ],
      "metadata": {
        "id": "O7yN6162JcyU"
      }
    },
    {
      "cell_type": "code",
      "source": [
        "news_df['text'] = news_df['text'].str.lower()"
      ],
      "metadata": {
        "id": "zmFqrts6E8KG"
      },
      "execution_count": null,
      "outputs": []
    },
    {
      "cell_type": "markdown",
      "source": [
        "Lets apply lemmatization.\n",
        "Lemmatization is the process of reducing words to their base or root form (lemma), which helps in standardizing variations of words. For instance, words like \"running\" or \"ran\" are reduced to the base form \"run\". This improves the model's understanding of the text and can enhance its performance by treating different forms of the same word as equivalent. In this project, applying lemmatization will preprocess the text data by normalizing words, which may help in improving the accuracy of fake news detection."
      ],
      "metadata": {
        "id": "4qaNEdBpJj2R"
      }
    },
    {
      "cell_type": "code",
      "source": [
        "import nltk\n",
        "\n",
        "nltk.download('wordnet')\n",
        "\n",
        "from nltk.stem import WordNetLemmatizer\n",
        "\n",
        "lemmatizer = WordNetLemmatizer()\n",
        "news_df['text'] = news_df['text'].apply(lambda x: ' '.join([lemmatizer.lemmatize(word) for word in x.split()]))"
      ],
      "metadata": {
        "colab": {
          "base_uri": "https://localhost:8080/"
        },
        "id": "eqpzj-9yFCpz",
        "outputId": "9db9c423-7682-477d-9681-291dd8e3b8db"
      },
      "execution_count": null,
      "outputs": [
        {
          "output_type": "stream",
          "name": "stderr",
          "text": [
            "[nltk_data] Downloading package wordnet to /root/nltk_data...\n"
          ]
        }
      ]
    },
    {
      "cell_type": "markdown",
      "source": [
        "Let us split the dataset into training and testing sets"
      ],
      "metadata": {
        "id": "nybZv-NzLgSx"
      }
    },
    {
      "cell_type": "code",
      "source": [
        "x_train, x_test, y_train, y_test = train_test_split(news_df['text'], labels, test_size = 0.2, random_state = 42)"
      ],
      "metadata": {
        "id": "TKV2AoYqLnNE"
      },
      "execution_count": null,
      "outputs": []
    },
    {
      "cell_type": "markdown",
      "source": [
        "**First Vectorizer-Model: CountVectorizer with Naive Bayes**  \n",
        "\n",
        "In this project, the first approach involves using **CountVectorizer** for feature extraction and **Naive Bayes** for classification.  \n",
        "\n",
        "- **CountVectorizer** converts text into a matrix of word counts, capturing how often each word appears in the text. This representation helps analyze the patterns of word usage across different news articles.  \n",
        "- **Naive Bayes**, specifically the **Multinomial Naive Bayes** algorithm, is applied to classify the news as real or fake. It works efficiently with frequency data and assumes that the occurrence of words is conditionally independent, making it a reliable choice for text-based tasks.  \n",
        "\n",
        "This combination offers a straightforward yet powerful method to identify fake news by analyzing word frequency patterns. It also serves as a foundational model for comparing the performance of other techniques used in the project."
      ],
      "metadata": {
        "id": "thChvTiJvb-H"
      }
    },
    {
      "cell_type": "code",
      "source": [
        "#Initializing CountVectorizer\n",
        "vectorizer = CountVectorizer(stop_words='english') #stop_words is set to english to ignore words like a, an, and ...\n",
        "x_cvectorized = vectorizer.fit_transform(x_train)\n",
        "x_test_cvectorized = vectorizer.transform(x_test)\n",
        "\n",
        "#Initializing Multinomial Naives Bayes\n",
        "nb = MultinomialNB()\n",
        "nb.fit(x_cvectorized,y_train)\n",
        "\n",
        "y_pred_nb = nb.predict(x_test_cvectorized)\n",
        "\n",
        "score = accuracy_score(y_test,y_pred_nb)\n",
        "print(f'Accuracy: {round(score*100,2)}%')\n",
        "confusion_matrix(y_test,y_pred_nb, labels=['FAKE','REAL'])"
      ],
      "metadata": {
        "colab": {
          "base_uri": "https://localhost:8080/"
        },
        "id": "-IjWfXtlvbpf",
        "outputId": "af7e802d-f96b-4a23-b637-a0c399570064"
      },
      "execution_count": null,
      "outputs": [
        {
          "output_type": "stream",
          "name": "stdout",
          "text": [
            "Accuracy: 89.58%\n"
          ]
        },
        {
          "output_type": "execute_result",
          "data": {
            "text/plain": [
              "array([[543,  85],\n",
              "       [ 47, 592]])"
            ]
          },
          "metadata": {},
          "execution_count": 42
        }
      ]
    },
    {
      "cell_type": "markdown",
      "source": [
        "The first model achieved an accuracy of **89.58%**. The confusion matrix shows:\n",
        "\n",
        "- **True Positives (592)**: Correctly classified real news.  \n",
        "- **True Negatives (543)**: Correctly classified fake news.  \n",
        "- **False Positives (85)**: Fake news misclassified as real.  \n",
        "- **False Negatives (47)**: Real news misclassified as fake.  \n",
        "\n",
        "### Insights:  \n",
        "- **False positives (85)** and **false negatives (47)** highlight areas for improvement in classification accuracy.  \n",
        "- With an **accuracy of 89.58%**, the model demonstrates strong performance, but there is room for optimization to further reduce errors.  "
      ],
      "metadata": {
        "id": "X6AjGqIVx8Ql"
      }
    },
    {
      "cell_type": "markdown",
      "source": [
        "**Second Vectorizer-Model: TfidfVectorizer with PassiveAggressiveClassifier**\n",
        "\n",
        "The second approach in this project uses **TfidfVectorizer** for feature extraction and **PassiveAggressiveClassifier** for classification.\n",
        "\n",
        "- **TfidfVectorizer** transforms the text data by emphasizing the importance of rare or unique terms, giving less weight to frequently occurring words. This helps in highlighting the key words or phrases that differentiate real news from fake news, providing a more focused representation of the content.\n",
        "- **PassiveAggressiveClassifier** is an online learning algorithm that adjusts the model aggressively only when a mistake is made, making minimal changes to the weights. It is particularly effective for text classification tasks like fake news detection, as it is fast and works well with large-scale data.\n",
        "\n",
        "This combination is ideal for handling complex datasets and is expected to improve performance by focusing on the most relevant terms and adapting to errors efficiently."
      ],
      "metadata": {
        "id": "07FsCIdhyP0T"
      }
    },
    {
      "cell_type": "code",
      "source": [
        "#initializing the tfidfvectorizer\n",
        "tfidf_vectorizer=TfidfVectorizer(stop_words = 'english', max_df=0.7)\n",
        "tfidf_train=tfidf_vectorizer.fit_transform(x_train)\n",
        "tfidf_test=tfidf_vectorizer.transform(x_test)\n",
        "\n",
        "#Initializing the PassiveAggressiveClassifier\n",
        "pac = PassiveAggressiveClassifier(max_iter = 50)\n",
        "pac.fit(tfidf_train, y_train)\n",
        "\n",
        "y_pred_pac = pac.predict(tfidf_test)\n",
        "score = accuracy_score(y_test,y_pred_pac)\n",
        "print(f'Accuracy: {round(score*100,2)}%')\n",
        "confusion_matrix(y_test,y_pred_pac, labels=['FAKE','REAL'])"
      ],
      "metadata": {
        "colab": {
          "base_uri": "https://localhost:8080/"
        },
        "id": "VejeuLZ_Mk7g",
        "outputId": "5be34ed3-d3b5-4024-eec3-db18566e4b1b"
      },
      "execution_count": null,
      "outputs": [
        {
          "output_type": "stream",
          "name": "stdout",
          "text": [
            "Accuracy: 93.13%\n"
          ]
        },
        {
          "output_type": "execute_result",
          "data": {
            "text/plain": [
              "array([[585,  43],\n",
              "       [ 44, 595]])"
            ]
          },
          "metadata": {},
          "execution_count": 43
        }
      ]
    },
    {
      "cell_type": "markdown",
      "source": [
        "The second model achieved an accuracy of **93.13%**. The confusion matrix shows:\n",
        "\n",
        "- **True Positives (595)**: Correctly classified real news.  \n",
        "- **True Negatives (585)**: Correctly classified fake news.  \n",
        "- **False Positives (43)**: Fake news misclassified as real.  \n",
        "- **False Negatives (44)**: Real news misclassified as fake.  \n",
        "\n",
        "### Insights:  \n",
        "- **Low false positives (43)** and **false negatives (44)** highlight the model's strong performance in classification.  \n",
        "- With an **accuracy of 93.13%**, the model effectively differentiates between fake and real news, though slight improvements could further enhance its accuracy.  "
      ],
      "metadata": {
        "id": "mw0hQnon1fPM"
      }
    },
    {
      "cell_type": "markdown",
      "source": [
        "**Third Vectorizer-Model: HashingVectorizer with SGDClassifier**  \n",
        "\n",
        "The third combination in this project uses **HashingVectorizer** for feature extraction and **SGDClassifier** for classification.\n",
        "\n",
        "- **HashingVectorizer** efficiently handles large-scale datasets by transforming text into fixed-length feature vectors using a hashing function. It is memory-efficient and does not require storing the entire vocabulary, making it ideal for large text corpora or real-time applications.  \n",
        "- **SGDClassifier** is a linear classifier optimized using Stochastic Gradient Descent. It is fast, scalable, and well-suited for large, sparse datasets like those generated by **HashingVectorizer**. It also allows for fine-tuning the model with various loss functions, making it adaptable to different text classification tasks.\n",
        "\n",
        "**Though the dataset is not that huge**, this combination still provides advantages, such as memory efficiency and scalability. Even with a relatively moderate-sized dataset like yours, **HashingVectorizer** ensures quick feature extraction without compromising performance. The **SGDClassifier**'s speed and flexibility can also help in efficiently processing the data, making this combination a good fit for this project."
      ],
      "metadata": {
        "id": "82QlrDkX1hkO"
      }
    },
    {
      "cell_type": "code",
      "source": [
        "#Initializing the HashingVectorizer\n",
        "hv = HashingVectorizer()\n",
        "x_train_hv = hv.fit_transform(x_train)\n",
        "x_test_hv = hv.transform(x_test)\n",
        "\n",
        "#Initializing the SGDClassifier\n",
        "sgd = SGDClassifier()\n",
        "\n",
        "#Since SGDClassifier requires numerical values of Labels\n",
        "modified_y_train = y_train.map({'FAKE': 0, 'REAL': 1})\n",
        "modified_y_test = y_test.map({'FAKE': 0, 'REAL': 1})\n",
        "\n",
        "sgd.fit(x_train_hv, modified_y_train)\n",
        "y_pred_sgd = sgd.predict(x_test_hv)\n",
        "\n",
        "score=accuracy_score(modified_y_test,y_pred_sgd)\n",
        "print(f'Accuracy: {round(score*100,2)}%')\n",
        "confusion_matrix(modified_y_test,y_pred_sgd, labels=[0, 1])"
      ],
      "metadata": {
        "colab": {
          "base_uri": "https://localhost:8080/"
        },
        "id": "yEcpjqJ1sARG",
        "outputId": "11e4ba22-5eca-42b4-aa8a-06ae458adacc"
      },
      "execution_count": null,
      "outputs": [
        {
          "output_type": "stream",
          "name": "stdout",
          "text": [
            "Accuracy: 91.48%\n"
          ]
        },
        {
          "output_type": "execute_result",
          "data": {
            "text/plain": [
              "array([[576,  52],\n",
              "       [ 56, 583]])"
            ]
          },
          "metadata": {},
          "execution_count": 44
        }
      ]
    },
    {
      "cell_type": "markdown",
      "source": [
        "The third model achieved an accuracy of **91.48%**. The confusion matrix shows:\n",
        "\n",
        "- **True Positives (583)**: Correctly classified real news.  \n",
        "- **True Negatives (576)**: Correctly classified fake news.  \n",
        "- **False Positives (52)**: Fake news misclassified as real.  \n",
        "- **False Negatives (56)**: Real news misclassified as fake.  \n",
        "\n",
        "### Insights:  \n",
        "- **Moderate false positives (52)** and **false negatives (56)** suggest areas for potential improvement.  \n",
        "- With an **accuracy of 91.48%**, the model demonstrates strong capability in distinguishing between fake and real news, though reducing misclassifications would enhance its reliability.  "
      ],
      "metadata": {
        "id": "-V12d33P5Mvd"
      }
    },
    {
      "cell_type": "markdown",
      "source": [
        "**Fourth Vectorizer-Model: Doc2Vec with Logistic Regression**\n",
        "\n",
        "The fourth combination in this project uses **Doc2Vec** for feature extraction and **Logistic Regression** for classification.\n",
        "\n",
        "- **Doc2Vec** is an extension of Word2Vec, which generates vector representations of entire documents, capturing semantic meaning and relationships between words in a document. It converts text into numerical vectors, which can then be used by machine learning algorithms.\n",
        "- **Logistic Regression** is a linear classifier used for binary classification tasks. It estimates probabilities using a logistic function, making it an effective and interpretable model for distinguishing between fake and real news based on the features extracted by **Doc2Vec**.\n",
        "\n",
        "**Though the dataset is not very large**, this combination leverages the power of **Doc2Vec** to generate rich document embeddings, providing a better semantic understanding of the text. **Logistic Regression** complements this by offering a simple, fast, and interpretable approach for classification. Even with moderate-sized datasets, this combination remains effective, offering both accuracy and simplicity in detecting fake news."
      ],
      "metadata": {
        "id": "XTv11Ee-5OeD"
      }
    },
    {
      "cell_type": "code",
      "source": [
        "# Preparing the data for Doc2Vec\n",
        "tagged_data = [TaggedDocument(words=text.split(), tags=[str(i)]) for i, text in enumerate(x_train)]\n",
        "\n",
        "# Initializing and training Doc2Vec model\n",
        "doc2vec_model = Doc2Vec(vector_size=100, window=5, min_count=2, workers=4)\n",
        "doc2vec_model.build_vocab(tagged_data)\n",
        "doc2vec_model.train(tagged_data, total_examples=doc2vec_model.corpus_count, epochs=10)\n",
        "\n",
        "# Converting text data into vector representation using Doc2Vec\n",
        "train_vectors = [doc2vec_model.infer_vector(text.split()) for text in x_train]\n",
        "test_vectors = [doc2vec_model.infer_vector(text.split()) for text in x_test]\n",
        "\n",
        "# Initializing Logistic Regression\n",
        "lr = LogisticRegression(max_iter=1000)\n",
        "\n",
        "lr.fit(train_vectors, y_train)\n",
        "y_pred = lr.predict(test_vectors)\n",
        "\n",
        "\n",
        "accuracy = accuracy_score(y_test, y_pred)\n",
        "print(f'Accuracy: {round(accuracy * 100, 2)}%')\n",
        "print(confusion_matrix(y_test, y_pred, labels=['FAKE', 'REAL']))"
      ],
      "metadata": {
        "colab": {
          "base_uri": "https://localhost:8080/"
        },
        "id": "r6Z7qrI651k8",
        "outputId": "55ad0716-91ff-4ab7-bed6-4a2c69dfb8fd"
      },
      "execution_count": null,
      "outputs": [
        {
          "output_type": "stream",
          "name": "stdout",
          "text": [
            "Accuracy: 86.82%\n",
            "[[562  66]\n",
            " [101 538]]\n"
          ]
        }
      ]
    },
    {
      "cell_type": "markdown",
      "source": [
        "The fourth model achieved an accuracy of **86.82%**. The confusion matrix shows:\n",
        "\n",
        "- **True Positives (538)**: Correctly classified real news.  \n",
        "- **True Negatives (562)**: Correctly classified fake news.  \n",
        "- **False Positives (66)**: Fake news misclassified as real.  \n",
        "- **False Negatives (101)**: Real news misclassified as fake.  \n",
        "\n",
        "### Insights:  \n",
        "- **False positives (66)** highlight instances where fake news is misclassified as real.  \n",
        "- **False negatives (101)** suggest that the model struggles with correctly identifying some real news, reducing reliability.  \n",
        "- An **accuracy of 86.82%** indicates decent performance, but addressing these misclassifications could improve overall effectiveness.  "
      ],
      "metadata": {
        "id": "0w0mJRSJ814S"
      }
    },
    {
      "cell_type": "markdown",
      "source": [
        "### Conclusion of Best Model:\n",
        "\n",
        "In this project, I experimented with various models for fake news detection, and the **TfidfVectorizer with PassiveAggressiveClassifier** combination achieved the highest accuracy of **93.37%**. This model outperformed the others, making it the best choice for further refinement.\n",
        "\n",
        "While this model performed well overall, some fake news articles were still misclassified as real, and a few real news articles were misclassified as fake. This indicates that there is room for improvement.\n",
        "\n",
        "Next steps involve applying **error analysis** to identify the specific areas where the model is making mistakes and performing **cross-validation** to ensure the model's robustness and reliability. By doing so, I aim to enhance the model’s performance and make it more accurate in detecting fake news."
      ],
      "metadata": {
        "id": "p28FcwA09Ib7"
      }
    },
    {
      "cell_type": "markdown",
      "source": [
        "# Error Analysis of TfidfVectorizer with PassiveAggressiveClassifier\n",
        "Error analysis helps identify where the model makes mistakes in classifying fake and real news articles. By examining **false positives** (fake news predicted as real) and **false negatives** (real news predicted as fake), we can uncover patterns in misclassification. These could be related to misleading language in fake news or neutral tones in real news. Analyzing the **confusion matrix** further helps visualize the frequency of misclassifications, guiding adjustments in feature extraction, data preprocessing, and model refinement to improve accuracy and reduce errors."
      ],
      "metadata": {
        "id": "KFD_L5Ze5u2j"
      }
    },
    {
      "cell_type": "markdown",
      "source": [
        "First, lets check the following\n",
        "confusion matrix and classification report"
      ],
      "metadata": {
        "id": "aQ-KrT1P6m-S"
      }
    },
    {
      "cell_type": "code",
      "source": [
        "#Let us analyze the confusion matrix of TfidfVec-PassiveAggressiveClassifier\n",
        "conf_matrix = confusion_matrix(y_test,y_pred_pac, labels=['FAKE','REAL'])\n",
        "print(\"Confusion Matrix:\")\n",
        "print(conf_matrix)\n",
        "\n",
        "# Visualizing Confusion Matrix\n",
        "plt.figure(figsize=(8, 6))\n",
        "sns.heatmap(conf_matrix, annot=True, fmt='d', cmap='Blues', xticklabels=['FAKE', 'REAL'], yticklabels=['FAKE', 'REAL'])\n",
        "plt.title(\"Confusion Matrix\")\n",
        "plt.xlabel(\"Predicted\")\n",
        "plt.ylabel(\"Actual\")\n",
        "plt.show()\n"
      ],
      "metadata": {
        "id": "r0KB7Ns1BKCC",
        "colab": {
          "base_uri": "https://localhost:8080/",
          "height": 616
        },
        "outputId": "c481bb54-64d4-4ff3-e6a7-a21cea19a9da"
      },
      "execution_count": null,
      "outputs": [
        {
          "output_type": "stream",
          "name": "stdout",
          "text": [
            "Confusion Matrix:\n",
            "[[585  43]\n",
            " [ 44 595]]\n"
          ]
        },
        {
          "output_type": "display_data",
          "data": {
            "text/plain": [
              "<Figure size 800x600 with 2 Axes>"
            ],
            "image/png": "[encoded data removed]"
          },
          "metadata": {}
        }
      ]
    },
    {
      "cell_type": "markdown",
      "source": [
        "The confusion matrix helps understand where the model performs well and where it struggles:\n",
        "\n",
        "1. **True Positives (595)**: Real news correctly identified as real, showing the model detects real news well.  \n",
        "2. **True Negatives (585)**: Fake news correctly classified, indicating strong performance in identifying fake news.  \n",
        "3. **False Positives (43)**: Fake news misclassified as real, which could lead to misleading information being accepted.  \n",
        "4. **False Negatives (44)**: Real news misclassified as fake, potentially reducing trust in the system.\n",
        "\n",
        "### Insights:\n",
        "The model performs well overall, with low false positives and false negatives, but reducing these errors further can improve reliability and accuracy.  \n"
      ],
      "metadata": {
        "id": "Yaoud5gW567B"
      }
    },
    {
      "cell_type": "markdown",
      "source": [
        "Lets use a classification report for precision, recall, F1-score, and support for each class"
      ],
      "metadata": {
        "id": "XhF2nBER1v9l"
      }
    },
    {
      "cell_type": "code",
      "source": [
        "# Classification Report\n",
        "print(\"Classification Report:\")\n",
        "print(classification_report(y_test, y_pred_pac, target_names=['FAKE', 'REAL']))"
      ],
      "metadata": {
        "colab": {
          "base_uri": "https://localhost:8080/"
        },
        "id": "AUywxveg1Isn",
        "outputId": "a39308b1-25a8-41ef-e4be-4025b1a16c6b"
      },
      "execution_count": null,
      "outputs": [
        {
          "output_type": "stream",
          "name": "stdout",
          "text": [
            "Classification Report:\n",
            "              precision    recall  f1-score   support\n",
            "\n",
            "        FAKE       0.93      0.93      0.93       628\n",
            "        REAL       0.93      0.93      0.93       639\n",
            "\n",
            "    accuracy                           0.93      1267\n",
            "   macro avg       0.93      0.93      0.93      1267\n",
            "weighted avg       0.93      0.93      0.93      1267\n",
            "\n"
          ]
        }
      ]
    },
    {
      "cell_type": "markdown",
      "source": [
        "The classification report provides detailed metrics for evaluating the model's performance:\n",
        "\n",
        "1. **Precision (0.93)**: The model is 93% accurate in predicting both fake and real news, meaning most predicted labels are correct.  \n",
        "2. **Recall (0.93)**: The model correctly identifies 93% of the actual fake and real news, reflecting good sensitivity.  \n",
        "3. **F1-Score (0.93)**: The harmonic mean of precision and recall indicates balanced performance in detecting both classes.  \n",
        "4. **Support**: There are 628 fake and 639 real news samples in the test set.\n",
        "\n",
        "### Overall Performance:\n",
        "- **Accuracy (93%)**: The model correctly classifies most of the samples, showing strong performance.  \n",
        "- **Macro Average (0.93)**: Performance is balanced across both classes.  \n",
        "- **Weighted Average (0.93)**: Consistent results even with slightly imbalanced classes.  \n",
        "\n",
        "### Insight:\n",
        "The model is effective at distinguishing between fake and real news, with balanced performance across all key metrics."
      ],
      "metadata": {
        "id": "5zTgnZZI615B"
      }
    },
    {
      "cell_type": "markdown",
      "source": [
        "Now lets analyze the misclassfied samples"
      ],
      "metadata": {
        "id": "H2_m_RXX19HG"
      }
    },
    {
      "cell_type": "code",
      "source": [
        "# Create a DataFrame for test data\n",
        "test_data = pd.DataFrame({'Text': x_test, 'Actual': y_test, 'Predicted': y_pred_pac})\n",
        "\n",
        "# Extract misclassified samples\n",
        "false_positives = test_data[(test_data['Actual'] == 'REAL') & (test_data['Predicted'] == 'FAKE')]\n",
        "false_negatives = test_data[(test_data['Actual'] == 'FAKE') & (test_data['Predicted'] == 'REAL')]\n",
        "\n",
        "print(f\"Number of False Positives: {len(false_positives)}\")\n",
        "print(f\"Number of False Negatives: {len(false_negatives)}\")\n",
        "\n",
        "# Display examples\n",
        "print(\"\\nSample False Positives:\")\n",
        "print(false_positives.head())\n",
        "\n",
        "print(\"\\nSample False Negatives:\")\n",
        "print(false_negatives.head())"
      ],
      "metadata": {
        "colab": {
          "base_uri": "https://localhost:8080/"
        },
        "id": "dWWNDpHE2IlL",
        "outputId": "48648965-c7e9-41cc-d858-10f28550dbda"
      },
      "execution_count": null,
      "outputs": [
        {
          "output_type": "stream",
          "name": "stdout",
          "text": [
            "Number of False Positives: 44\n",
            "Number of False Negatives: 43\n",
            "\n",
            "Sample False Positives:\n",
            "                                                   Text Actual Predicted\n",
            "1420  back in 2013 these stooge were promoting the p...   REAL      FAKE\n",
            "2402  christian whiton is a former deputy special en...   REAL      FAKE\n",
            "3378  san francisco hillary clinton campaign accused...   REAL      FAKE\n",
            "4292  newly released video captured by an arizona po...   REAL      FAKE\n",
            "472   first we were told that a russian hacker had b...   REAL      FAKE\n",
            "\n",
            "Sample False Negatives:\n",
            "                                                   Text Actual Predicted\n",
            "4827  0 comment gop vp candidate mike pences trump p...   FAKE      REAL\n",
            "2414  october 28 2016 susan rice u must integrate lg...   FAKE      REAL\n",
            "5146  you are here home u disgusting evolution of po...   FAKE      REAL\n",
            "1662  before it news a advanced a our job posting an...   FAKE      REAL\n",
            "208   before it news it is fun to look at poll and u...   FAKE      REAL\n"
          ]
        }
      ]
    },
    {
      "cell_type": "markdown",
      "source": [
        "Investigating Feature Importance"
      ],
      "metadata": {
        "id": "hGPCJCA32Ttq"
      }
    },
    {
      "cell_type": "code",
      "source": [
        "# Extract feature importance\n",
        "feature_weights = pac.coef_[0]\n",
        "feature_names = tfidf_vectorizer.get_feature_names_out()\n",
        "\n",
        "# Create a DataFrame for feature importance\n",
        "feature_importance = pd.DataFrame({\n",
        "    'Feature': feature_names,\n",
        "    'Weight': feature_weights\n",
        "})\n",
        "\n",
        "# Sort by absolute weight\n",
        "feature_importance['AbsoluteWeight'] = feature_importance['Weight'].abs()\n",
        "top_features = feature_importance.sort_values(by='AbsoluteWeight', ascending=False).head(10)\n",
        "\n",
        "print(\"\\nTop 10 Features by Weight:\")\n",
        "print(top_features[['Feature', 'Weight']])\n",
        "\n",
        "# Visualize top features\n",
        "plt.figure(figsize=(10, 6))\n",
        "sns.barplot(x='Weight', y='Feature', data=top_features)\n",
        "plt.title(\"Top 10 Features by Weight\")\n",
        "plt.xlabel(\"Weight\")\n",
        "plt.ylabel(\"Feature\")\n",
        "plt.show()\n"
      ],
      "metadata": {
        "colab": {
          "base_uri": "https://localhost:8080/",
          "height": 790
        },
        "id": "vnMLL9Fb2YB3",
        "outputId": "50849566-c852-4f74-efdd-15ff3ae60fcd"
      },
      "execution_count": null,
      "outputs": [
        {
          "output_type": "stream",
          "name": "stdout",
          "text": [
            "\n",
            "Top 10 Features by Weight:\n",
            "            Feature    Weight\n",
            "45369       october -5.064025\n",
            "1618           2016 -5.020883\n",
            "55691          said  4.932596\n",
            "57753         share -3.887062\n",
            "7556        article -3.729238\n",
            "15868  conservative  3.695480\n",
            "30535       hillary -3.414906\n",
            "44849      november -3.293578\n",
            "59715        source -3.174856\n",
            "56185           say  3.107945\n"
          ]
        },
        {
          "output_type": "display_data",
          "data": {
            "text/plain": [
              "<Figure size 1000x600 with 1 Axes>"
            ],
            "image/png": "[encoded data removed]"
          },
          "metadata": {}
        }
      ]
    },
    {
      "cell_type": "markdown",
      "source": [
        "This table shows the top 10 features (like words or identifiers) and their associated weights. The weight indicates how important or influential each feature is in the model.\n",
        "\n",
        "- **Positive weights** (e.g., \"said\" with a weight of 4.93) mean the feature has a strong positive impact on the model's outcome.\n",
        "- **Negative weights** (e.g., \"october\" with a weight of -5.06) suggest the feature has a negative impact.\n",
        "\n",
        "The larger the absolute value of the weight, the more important the feature is in the model."
      ],
      "metadata": {
        "id": "MABrO2ez8Hx9"
      }
    },
    {
      "cell_type": "markdown",
      "source": [
        "Cross-Validation before Improvement"
      ],
      "metadata": {
        "id": "l5KtaiEH3W89"
      }
    },
    {
      "cell_type": "code",
      "source": [
        "# Perform k-fold cross-validation\n",
        "cv_scores = cross_val_score(pac, tfidf_train, y_train, cv=5, scoring='accuracy')\n",
        "print(f\"Cross-Validation Accuracy: {np.mean(cv_scores)*100:.2f}% (+/- {np.std(cv_scores)*100:.2f}%)\")\n"
      ],
      "metadata": {
        "colab": {
          "base_uri": "https://localhost:8080/"
        },
        "id": "uXnbYqRC3bGs",
        "outputId": "485868e9-2bc5-40f8-eb40-a6e40a9dc4a2"
      },
      "execution_count": null,
      "outputs": [
        {
          "output_type": "stream",
          "name": "stdout",
          "text": [
            "Cross-Validation Accuracy: 93.49% (+/- 0.79%)\n"
          ]
        }
      ]
    },
    {
      "cell_type": "markdown",
      "source": [
        "###Interpretation:\n",
        "High Accuracy: The model demonstrates strong performance in differentiating between fake and real news, achieving an average cross-validation accuracy close to 94%.\n",
        "\n",
        "Consistency: The low standard deviation (±0.87%) indicates that the model maintains consistent performance across different data splits, showcasing its stability and reliability in classification tasks."
      ],
      "metadata": {
        "id": "EQnWdi-p3yZX"
      }
    },
    {
      "cell_type": "markdown",
      "source": [
        "Improvement of Model"
      ],
      "metadata": {
        "id": "MG_JQHH-4HAA"
      }
    },
    {
      "cell_type": "markdown",
      "source": [
        "I aim to apply **sentiment analysis**, as fake news often uses emotionally charged and subjective language to influence readers. By incorporating sentiment polarity (positivity/negativity) and subjectivity (objective vs. opinion-based) as additional features, the model can better distinguish between fake and real news. This enhancement is expected to capture the emotional tone and bias present in the text, which are common indicators of fake news."
      ],
      "metadata": {
        "id": "SAd3YnMV4qIn"
      }
    },
    {
      "cell_type": "code",
      "source": [
        "from textblob import TextBlob\n",
        "\n",
        "# Function to extract sentiment (polarity and subjectivity)\n",
        "def extract_sentiment(text):\n",
        "    analysis = TextBlob(text)\n",
        "    return analysis.sentiment.polarity, analysis.sentiment.subjectivity\n",
        "\n",
        "# Apply the sentiment extraction on the train data\n",
        "x_train_sentiment = x_train.apply(lambda text: pd.Series(extract_sentiment(text)))\n",
        "x_train_sentiment.columns = ['polarity', 'subjectivity']  # Naming the columns for sentiment features\n",
        "\n",
        "# Apply the sentiment extraction on the test data\n",
        "x_test_sentiment = x_test.apply(lambda text: pd.Series(extract_sentiment(text)))\n",
        "x_test_sentiment.columns = ['polarity', 'subjectivity']  # Naming the columns for sentiment features\n",
        "\n",
        "\n",
        "from scipy.sparse import hstack\n",
        "\n",
        "# Concatenating the sentiment features with TF-IDF features\n",
        "x_train_combined = hstack([tfidf_train, x_train_sentiment.values])\n",
        "x_test_combined = hstack([tfidf_test, x_test_sentiment.values])\n",
        "\n",
        "pac = PassiveAggressiveClassifier(max_iter = 50)\n",
        "pac.fit(x_train_combined, y_train)\n",
        "\n",
        "y_pred_pac = pac.predict(x_test_combined)\n",
        "score = accuracy_score(y_test,y_pred_pac)\n",
        "print(f'Accuracy: {round(score*100,2)}%')\n",
        "confusion_matrix(y_test,y_pred_pac, labels=['FAKE','REAL'])\n",
        "\n"
      ],
      "metadata": {
        "colab": {
          "base_uri": "https://localhost:8080/"
        },
        "id": "k_SDg35d39Ob",
        "outputId": "26caf259-5f27-4198-e72d-c32513af5273"
      },
      "execution_count": null,
      "outputs": [
        {
          "output_type": "stream",
          "name": "stdout",
          "text": [
            "Accuracy: 93.21%\n"
          ]
        },
        {
          "output_type": "execute_result",
          "data": {
            "text/plain": [
              "array([[586,  42],\n",
              "       [ 44, 595]])"
            ]
          },
          "metadata": {},
          "execution_count": 61
        }
      ]
    },
    {
      "cell_type": "markdown",
      "source": [
        "Lets apply HyperParameter tuning to fine-tune the model"
      ],
      "metadata": {
        "id": "mkjm2GYl7bT4"
      }
    },
    {
      "cell_type": "code",
      "source": [
        "# Hyperparameter Tuning with GridSearchCV (for TfidfVectorizer with PassiveAggressiveClassifier)\n",
        "from sklearn.model_selection import GridSearchCV\n",
        "\n",
        "param_grid = {\n",
        "    'max_iter': [100, 500, 1000],\n",
        "    'C': [0.1, 1, 10],\n",
        "    'tol': [1e-3, 1e-4, 1e-5]\n",
        "}\n",
        "\n",
        "grid_search = GridSearchCV(pac, param_grid, cv=5, scoring='accuracy')\n",
        "grid_search.fit(x_train_combined, y_train)\n",
        "\n",
        "# Get the best parameters and score\n",
        "print(f\"Best parameters: {grid_search.best_params_}\")\n",
        "print(f\"Best score: {grid_search.best_score_}\")"
      ],
      "metadata": {
        "colab": {
          "base_uri": "https://localhost:8080/"
        },
        "id": "L5xecmTH5ft5",
        "outputId": "a9696a95-4120-4140-ffb7-ed665f49b6fa"
      },
      "execution_count": null,
      "outputs": [
        {
          "output_type": "stream",
          "name": "stdout",
          "text": [
            "Best parameters: {'C': 10, 'max_iter': 100, 'tol': 0.0001}\n",
            "Best score: 0.9354788148546218\n"
          ]
        }
      ]
    },
    {
      "cell_type": "code",
      "source": [
        "best_pac = grid_search.best_estimator_\n",
        "# Evaluate the model with the best parameters\n",
        "y_pred_best_pac = best_pac.predict(x_test_combined)\n",
        "score = accuracy_score(y_test, y_pred_best_pac)\n",
        "print(f'Accuracy (with best parameters): {round(score*100,2)}%')"
      ],
      "metadata": {
        "colab": {
          "base_uri": "https://localhost:8080/"
        },
        "id": "D5Jf994HGt_c",
        "outputId": "2236d8a9-b237-40ec-c477-449b77f5a246"
      },
      "execution_count": null,
      "outputs": [
        {
          "output_type": "stream",
          "name": "stdout",
          "text": [
            "Accuracy (with best parameters): 93.21%\n"
          ]
        }
      ]
    },
    {
      "cell_type": "markdown",
      "source": [
        "Cross-Validation after Hyperparamter tuning and improvement"
      ],
      "metadata": {
        "id": "Gciktd8qKMBu"
      }
    },
    {
      "cell_type": "code",
      "source": [
        "cv_scores = cross_val_score(pac, tfidf_train, y_train, cv=5, scoring='accuracy')\n",
        "print(f\"Cross-Validation Accuracy: {np.mean(cv_scores)*100:.2f}% (+/- {np.std(cv_scores)*100:.2f}%)\")\n"
      ],
      "metadata": {
        "colab": {
          "base_uri": "https://localhost:8080/"
        },
        "id": "xwK3ysy9KJLs",
        "outputId": "d607feee-2195-4126-df98-8ed2598a9f3c"
      },
      "execution_count": null,
      "outputs": [
        {
          "output_type": "stream",
          "name": "stdout",
          "text": [
            "Cross-Validation Accuracy: 93.33% (+/- 0.86%)\n"
          ]
        }
      ]
    },
    {
      "cell_type": "markdown",
      "source": [
        "Although the model's accuracy has increased by only a small amount, it is still the most accurate model amongst the four"
      ],
      "metadata": {
        "id": "Ky-89AxC7p8o"
      }
    }
  ]
}